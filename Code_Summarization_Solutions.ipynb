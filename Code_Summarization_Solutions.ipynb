{
  "cells": [
    {
      "cell_type": "markdown",
      "metadata": {
        "id": "view-in-github",
        "colab_type": "text"
      },
      "source": [
        "<a href=\"https://colab.research.google.com/github/sheelaj123/Code-Summarization-Using-Gen-Ai-Project/blob/main/Code_Summarization_Solutions.ipynb\" target=\"_parent\"><img src=\"https://colab.research.google.com/assets/colab-badge.svg\" alt=\"Open In Colab\"/></a>"
      ]
    },
    {
      "cell_type": "markdown",
      "metadata": {
        "id": "VBq4hh16mMsB"
      },
      "source": [
        "# <font color=green><b>Code Summarization problem solution using GPT Model =>\n",
        "---\n",
        "\n",
        "####<font color=red><b>𝔖𝔲𝔟𝔪𝔦𝔰𝔰𝔦𝔬𝔫 𝔅𝔶 : 𝔖𝔥𝔢𝔢𝔩𝔞𝔧 𝔅𝔞𝔟𝔲"
      ],
      "id": "VBq4hh16mMsB"
    },
    {
      "cell_type": "markdown",
      "metadata": {
        "id": "mNXvPr9pmX8_"
      },
      "source": [
        "## <font color=Sky-blue><b>#Here is some Important steps that we have followed -:\n",
        "\n",
        "1.Install the OpenAI API library\n",
        "\n",
        "2.Setting  OpenAI API key\n",
        "\n",
        "3.Provide any code(any language: c/c++/java/python/.Net ..etc)\n",
        "\n",
        "4.Construct the prompt for GPT-3.5\n",
        "\n",
        "5.Request to the OpenAI API for code summarization\n",
        "\n",
        "6.Extract and printing the generated summary\n",
        "\n",
        "7.Chunking on the summarized code"
      ],
      "id": "mNXvPr9pmX8_"
    },
    {
      "cell_type": "markdown",
      "metadata": {
        "id": "lahzpbYRl7CJ"
      },
      "source": [
        "#<font color=Sky-blue><b>#1.Install the OpenAI API library\n",
        "---"
      ],
      "id": "lahzpbYRl7CJ"
    },
    {
      "cell_type": "code",
      "execution_count": null,
      "metadata": {
        "colab": {
          "base_uri": "https://localhost:8080/"
        },
        "id": "54a16e56-a78c-464e-abcf-da8ff081a759",
        "outputId": "abd62b69-bb22-44f1-c30f-d1db36a489c5"
      },
      "outputs": [
        {
          "output_type": "stream",
          "name": "stdout",
          "text": [
            "Requirement already satisfied: openai in /usr/local/lib/python3.10/dist-packages (1.11.1)\n",
            "Requirement already satisfied: anyio<5,>=3.5.0 in /usr/local/lib/python3.10/dist-packages (from openai) (3.7.1)\n",
            "Requirement already satisfied: distro<2,>=1.7.0 in /usr/lib/python3/dist-packages (from openai) (1.7.0)\n",
            "Requirement already satisfied: httpx<1,>=0.23.0 in /usr/local/lib/python3.10/dist-packages (from openai) (0.26.0)\n",
            "Requirement already satisfied: pydantic<3,>=1.9.0 in /usr/local/lib/python3.10/dist-packages (from openai) (2.6.0)\n",
            "Requirement already satisfied: sniffio in /usr/local/lib/python3.10/dist-packages (from openai) (1.3.0)\n",
            "Requirement already satisfied: tqdm>4 in /usr/local/lib/python3.10/dist-packages (from openai) (4.66.1)\n",
            "Requirement already satisfied: typing-extensions<5,>=4.7 in /usr/local/lib/python3.10/dist-packages (from openai) (4.9.0)\n",
            "Requirement already satisfied: idna>=2.8 in /usr/local/lib/python3.10/dist-packages (from anyio<5,>=3.5.0->openai) (3.6)\n",
            "Requirement already satisfied: exceptiongroup in /usr/local/lib/python3.10/dist-packages (from anyio<5,>=3.5.0->openai) (1.2.0)\n",
            "Requirement already satisfied: certifi in /usr/local/lib/python3.10/dist-packages (from httpx<1,>=0.23.0->openai) (2024.2.2)\n",
            "Requirement already satisfied: httpcore==1.* in /usr/local/lib/python3.10/dist-packages (from httpx<1,>=0.23.0->openai) (1.0.2)\n",
            "Requirement already satisfied: h11<0.15,>=0.13 in /usr/local/lib/python3.10/dist-packages (from httpcore==1.*->httpx<1,>=0.23.0->openai) (0.14.0)\n",
            "Requirement already satisfied: annotated-types>=0.4.0 in /usr/local/lib/python3.10/dist-packages (from pydantic<3,>=1.9.0->openai) (0.6.0)\n",
            "Requirement already satisfied: pydantic-core==2.16.1 in /usr/local/lib/python3.10/dist-packages (from pydantic<3,>=1.9.0->openai) (2.16.1)\n"
          ]
        }
      ],
      "source": [
        "pip install openai"
      ],
      "id": "54a16e56-a78c-464e-abcf-da8ff081a759"
    },
    {
      "cell_type": "code",
      "execution_count": null,
      "metadata": {
        "id": "54b46999-732f-4b55-8a28-acebdcb10d9e"
      },
      "outputs": [],
      "source": [
        "import os\n",
        "from openai import OpenAI"
      ],
      "id": "54b46999-732f-4b55-8a28-acebdcb10d9e"
    },
    {
      "cell_type": "markdown",
      "metadata": {
        "id": "CzFTE3dynmty"
      },
      "source": [
        "#<font color=Sky-blue><b>#2.Setting  OpenAI API key\n",
        "---\n"
      ],
      "id": "CzFTE3dynmty"
    },
    {
      "cell_type": "markdown",
      "metadata": {
        "id": "Tn6aLH2mQH2_"
      },
      "source": [
        "Generated through [openai](https://platform.openai.com/api-keys) platform --"
      ],
      "id": "Tn6aLH2mQH2_"
    },
    {
      "cell_type": "code",
      "execution_count": null,
      "metadata": {
        "id": "e3c9525e-88c3-4967-a889-343a3abc4beb"
      },
      "outputs": [],
      "source": [
        "import os\n",
        "from openai import OpenAI\n",
        "client = OpenAI(api_key=\"YOUR__KEY\")"
      ],
      "id": "e3c9525e-88c3-4967-a889-343a3abc4beb"
    },
    {
      "cell_type": "markdown",
      "metadata": {
        "id": "XWfkUfdEnvSV"
      },
      "source": [
        "#<font color=Sky-blue><b>#3.Provide any code(any language: c/c++/java/python ..etc)\n",
        "---"
      ],
      "id": "XWfkUfdEnvSV"
    },
    {
      "cell_type": "markdown",
      "metadata": {
        "id": "gvYSvV4vqcXl"
      },
      "source": [
        "here, I'm opening our code file-"
      ],
      "id": "gvYSvV4vqcXl"
    },
    {
      "cell_type": "markdown",
      "metadata": {
        "id": "09Ky2LnKS_JE"
      },
      "source": [
        "[Link for code](https://github.com/Mike-Banks/BankAppDemo/blob/master/app/src/main/java/com/example/mikebanks/bankscorpfinancial/DrawerActivity.java)"
      ],
      "id": "09Ky2LnKS_JE"
    },
    {
      "cell_type": "code",
      "execution_count": null,
      "metadata": {
        "id": "FifmnS77Gxb2"
      },
      "outputs": [],
      "source": [
        "with open(\"Bank-Code.java\", \"r\") as file:\n",
        "    code = file.read()"
      ],
      "id": "FifmnS77Gxb2"
    },
    {
      "cell_type": "markdown",
      "metadata": {
        "id": "ffKIiwZiNk9s"
      },
      "source": [
        "-#Another way"
      ],
      "id": "ffKIiwZiNk9s"
    },
    {
      "cell_type": "code",
      "execution_count": null,
      "metadata": {
        "id": "a678e6fe-c1c0-4f7e-8287-a71a0c743662"
      },
      "outputs": [],
      "source": [
        "#  code = \"\"\"\n",
        "\n",
        "# import java.sql.Connection;\n",
        "# import java.sql.PreparedStatement;\n",
        "# import java.sql.ResultSet;\n",
        "# import java.sql.SQLException;\n",
        "# import java.util.Random;\n",
        "# import javax.swing.JOptionPane;\n",
        "# import java.util.regex.*;\n",
        "# import java.text.ParseException;\n",
        "# import java.text.SimpleDateFormat;\n",
        "# import java.util.Date;\n",
        "\n",
        "# /*\n",
        "#  * To change this license header, choose License Headers in Project Properties.\n",
        "#  * To change this template file, choose Tools | Templates\n",
        "#  * and open the template in the editor.\n",
        "#  */\n",
        "\n",
        "# /**\n",
        "#  *\n",
        "#  * @author Sheelaj\n",
        "#  */\n",
        "# public class Account extends javax.swing.JFrame {\n",
        "\n",
        "#     /**\n",
        "#      * Creates new form Account\n",
        "#      */\n",
        "#      Connection conn;\n",
        "#     ResultSet res;\n",
        "#     PreparedStatement pst;\n",
        "#     public Account() {\n",
        "#         super(\"Create Account\");\n",
        "#         initComponents();\n",
        "#         conn=javaconnect.getInstance().ConnectDb();\n",
        "#         RandomAcc();\n",
        "#         RandomMICR();\n",
        "#         RandomPIN();\n",
        "#     }\n",
        "\n",
        "#     /**\n",
        "#      * This method is called from within the constructor to initialize the form.\n",
        "#      * WARNING: Do NOT modify this code. The content of this method is always\n",
        "#      * regenerated by the Form Editor.\n",
        "#      */\n",
        "#     @SuppressWarnings(\"unchecked\")\n",
        "#     // <editor-fold defaultstate=\"collapsed\" desc=\"Generated Code\">//GEN-BEGIN:initComponents\n",
        "#     private void initComponents() {\n",
        "\n",
        "#         buttonGroup1 = new javax.swing.ButtonGroup();\n",
        "#         jLabel1 = new javax.swing.JLabel();\n",
        "#         jPanel1 = new javax.swing.JPanel();\n",
        "#         jTextField7 = new javax.swing.JTextField();\n",
        "#         jButton3 = new javax.swing.JButton();\n",
        "#         jRadioButton2 = new javax.swing.JRadioButton();\n",
        "#         jLabel14 = new javax.swing.JLabel();\n",
        "#         jLabel9 = new javax.swing.JLabel();\n",
        "#         jLabel5 = new javax.swing.JLabel();\n",
        "#         jTextField6 = new javax.swing.JTextField();\n",
        "#         jLabel8 = new javax.swing.JLabel();\n",
        "#         jLabel12 = new javax.swing.JLabel();\n",
        "#         jComboBox2 = new javax.swing.JComboBox<>();\n",
        "#         jTextField5 = new javax.swing.JTextField();\n",
        "#         jLabel2 = new javax.swing.JLabel();\n",
        "#         jTextField3 = new javax.swing.JTextField();\n",
        "#         jComboBox1 = new javax.swing.JComboBox<>();\n",
        "#         jLabel13 = new javax.swing.JLabel();\n",
        "#         jRadioButton1 = new javax.swing.JRadioButton();\n",
        "#         jLabel11 = new javax.swing.JLabel();\n",
        "#         jTextField4 = new javax.swing.JTextField();\n",
        "#         jLabel3 = new javax.swing.JLabel();\n",
        "#         jButton1 = new javax.swing.JButton();\n",
        "#         jTextField1 = new javax.swing.JTextField();\n",
        "#         jLabel7 = new javax.swing.JLabel();\n",
        "#         jTextField9 = new javax.swing.JTextField();\n",
        "#         jButton2 = new javax.swing.JButton();\n",
        "#         jLabel4 = new javax.swing.JLabel();\n",
        "#         jLabel6 = new javax.swing.JLabel();\n",
        "#         jTextField2 = new javax.swing.JTextField();\n",
        "#         jLabel10 = new javax.swing.JLabel();\n",
        "#         jLabel16 = new javax.swing.JLabel();\n",
        "#         jTextField10 = new javax.swing.JTextField();\n",
        "#         jTextField11 = new javax.swing.JTextField();\n",
        "#         jComboBox3 = new javax.swing.JComboBox<>();\n",
        "#         jButton4 = new javax.swing.JButton();\n",
        "#         jLabel15 = new javax.swing.JLabel();\n",
        "#         jRadioButton3 = new javax.swing.JRadioButton();\n",
        "\n",
        "#         setDefaultCloseOperation(javax.swing.WindowConstants.EXIT_ON_CLOSE);\n",
        "\n",
        "#         jLabel1.setFont(new java.awt.Font(\"Tahoma\", 1, 48)); // NOI18N\n",
        "#         jLabel1.setText(\"iBanking\");\n",
        "\n",
        "#         jPanel1.setBorder(javax.swing.BorderFactory.createTitledBorder(javax.swing.BorderFactory.createTitledBorder(javax.swing.BorderFactory.createLineBorder(new java.awt.Color(0, 102, 0), 3), \"New Account\", javax.swing.border.TitledBorder.DEFAULT_JUSTIFICATION, javax.swing.border.TitledBorder.DEFAULT_POSITION, new java.awt.Font(\"Tahoma\", 1, 18), new java.awt.Color(0, 102, 0)), \"New Account\", javax.swing.border.TitledBorder.DEFAULT_JUSTIFICATION, javax.swing.border.TitledBorder.DEFAULT_POSITION, new java.awt.Font(\"Tahoma\", 1, 18))); // NOI18N\n",
        "\n",
        "#         jButton3.setText(\"Clear\");\n",
        "#         jButton3.addActionListener(new java.awt.event.ActionListener() {\n",
        "#             public void actionPerformed(java.awt.event.ActionEvent evt) {\n",
        "#                 jButton3ActionPerformed(evt);\n",
        "#             }\n",
        "#         });\n",
        "\n",
        "#         buttonGroup1.add(jRadioButton2);\n",
        "#         jRadioButton2.setText(\"Female\");\n",
        "\n",
        "#         jLabel14.setText(\"Answer\");\n",
        "\n",
        "#         jLabel9.setText(\"Date of Birth\");\n",
        "\n",
        "#         jLabel5.setText(\"Account type\");\n",
        "\n",
        "#         jLabel8.setText(\"Name\");\n",
        "\n",
        "#         jLabel12.setText(\"Mobile\");\n",
        "\n",
        "#         jComboBox2.setModel(new javax.swing.DefaultComboBoxModel<>(new String[] { \"Select\", \"Indian\", \"Other\" }));\n",
        "\n",
        "#         jLabel2.setText(\"Account No.\");\n",
        "\n",
        "#         jTextField3.setEditable(false);\n",
        "\n",
        "#         jComboBox1.setModel(new javax.swing.DefaultComboBoxModel<>(new String[] { \"Select\", \"Saving \", \"Current\", \" \" }));\n",
        "\n",
        "#         jLabel13.setText(\"Security Question\");\n",
        "\n",
        "#         buttonGroup1.add(jRadioButton1);\n",
        "#         jRadioButton1.setText(\"Male\");\n",
        "\n",
        "#         jLabel11.setText(\"Caste\");\n",
        "\n",
        "#         jLabel3.setText(\"MICR No.\");\n",
        "\n",
        "#         jButton1.setText(\"Create\");\n",
        "#         jButton1.addActionListener(new java.awt.event.ActionListener() {\n",
        "#             public void actionPerformed(java.awt.event.ActionEvent evt) {\n",
        "#                 jButton1ActionPerformed(evt);\n",
        "#             }\n",
        "#         });\n",
        "\n",
        "#         jTextField1.setEditable(false);\n",
        "\n",
        "#         jLabel7.setText(\"Address\");\n",
        "\n",
        "#         jButton2.setText(\"Back\");\n",
        "#         jButton2.addActionListener(new java.awt.event.ActionListener() {\n",
        "#             public void actionPerformed(java.awt.event.ActionEvent evt) {\n",
        "#                 jButton2ActionPerformed(evt);\n",
        "#             }\n",
        "#         });\n",
        "\n",
        "#         jLabel4.setText(\"Pin\");\n",
        "\n",
        "#         jLabel6.setText(\"Gender\");\n",
        "\n",
        "#         jTextField2.setEditable(false);\n",
        "\n",
        "#         jLabel10.setText(\"Nationality\");\n",
        "\n",
        "#         jLabel16.setText(\"Amount\");\n",
        "\n",
        "#         jComboBox3.setModel(new javax.swing.DefaultComboBoxModel<>(new String[] { \"What is your nick name?\", \"What is your pet's name?\", \"In which city you were born?\", \"What is your oldest nephew's first name?\", \"In which city your father was born?\", \" \" }));\n",
        "#         jComboBox3.addActionListener(new java.awt.event.ActionListener() {\n",
        "#             public void actionPerformed(java.awt.event.ActionEvent evt) {\n",
        "#                 jComboBox3ActionPerformed(evt);\n",
        "#             }\n",
        "#         });\n",
        "\n",
        "#         jButton4.setText(\"select\");\n",
        "#         jButton4.addActionListener(new java.awt.event.ActionListener() {\n",
        "#             public void actionPerformed(java.awt.event.ActionEvent evt) {\n",
        "#                 jButton4ActionPerformed(evt);\n",
        "#             }\n",
        "#         });\n",
        "\n",
        "#         jLabel15.setForeground(new java.awt.Color(255, 0, 0));\n",
        "#         jLabel15.setText(\"Thank you for banking with us\");\n",
        "\n",
        "#         buttonGroup1.add(jRadioButton3);\n",
        "#         jRadioButton3.setText(\"Other\");\n",
        "#         javax.swing.GroupLayout layout = new javax.swing.GroupLayout(getContentPane());\n",
        "#         getContentPane().setLayout(layout);\n",
        "#         layout.setHorizontalGroup(\n",
        "#             layout.createParallelGroup(javax.swing.GroupLayout.Alignment.LEADING)\n",
        "#             .addGroup(layout.createSequentialGroup()\n",
        "#                 .addGap(25, 25, 25)\n",
        "#                 .addGroup(layout.createParallelGroup(javax.swing.GroupLayout.Alignment.LEADING)\n",
        "#                     .addComponent(jPanel1, javax.swing.GroupLayout.PREFERRED_SIZE, javax.swing.GroupLayout.DEFAULT_SIZE, javax.swing.GroupLayout.PREFERRED_SIZE)\n",
        "#                     .addComponent(jLabel1))\n",
        "#                 .addContainerGap(44, Short.MAX_VALUE))\n",
        "#         );\n",
        "#         layout.setVerticalGroup(\n",
        "#             layout.createParallelGroup(javax.swing.GroupLayout.Alignment.LEADING)\n",
        "#             .addGroup(layout.createSequentialGroup()\n",
        "#                 .addContainerGap()\n",
        "#                 .addComponent(jLabel1)\n",
        "#                 .addPreferredGap(javax.swing.LayoutStyle.ComponentPlacement.RELATED)\n",
        "#                 .addComponent(jPanel1, javax.swing.GroupLayout.PREFERRED_SIZE, javax.swing.GroupLayout.DEFAULT_SIZE, javax.swing.GroupLayout.PREFERRED_SIZE)\n",
        "#                 .addContainerGap(73, Short.MAX_VALUE))\n",
        "#         );\n",
        "\n",
        "#         setSize(new java.awt.Dimension(881, 622));\n",
        "#         setLocationRelativeTo(null);\n",
        "#     }// </editor-fold>//GEN-END:initComponents\n",
        "#     public void RandomAcc(){\n",
        "#         int randomAcc = getUnique(\"Account\", 10000);\n",
        "#         jTextField1.setText(\"\"+randomAcc);\n",
        "#     }\n",
        "#     public void RandomMICR(){\n",
        "#         int randomMICR = getUnique(\"MICR_No\", 1000);\n",
        "#         jTextField2.setText(\"\"+randomMICR);\n",
        "#     }\n",
        "#     public void RandomPIN(){\n",
        "#         Random ra=new Random();\n",
        "#         jTextField3.setText(\"\"+ra.nextInt(1000+1));\n",
        "\n",
        "#     }\n",
        "#     public void Bal(){\n",
        "#         String sql=\"insert into Balances(Name,Acc,MICR_No,Balance) values (?,?,?,?)\";\n",
        "#         try{\n",
        "#             pst=conn.prepareStatement(sql);\n",
        "#             pst.setString(1,jTextField4.getText());\n",
        "#             pst.setString(2,jTextField1.getText());\n",
        "#             pst.setString(3,jTextField2.getText());\n",
        "#             pst.setString(4,jTextField10.getText());\n",
        "#             pst.execute();\n",
        "#         }catch(Exception e){\n",
        "#             JOptionPane.showMessageDialog(null, e);\n",
        "\n",
        "#         }\n",
        "\n",
        "\n",
        "#     }\n",
        "\n",
        "#     private void jButton2ActionPerformed(java.awt.event.ActionEvent evt) {//GEN-FIRST:event_jButton2ActionPerformed\n",
        "#         // TODO add your handling code here:\n",
        "#         setVisible(false);\n",
        "#         Authentication ob=new Authentication();\n",
        "#         ob.setVisible(true);\n",
        "#     }//GEN-LAST:event_jButton2ActionPerformed\n",
        "\n",
        "#     private void jButton3ActionPerformed(java.awt.event.ActionEvent evt) {//GEN-FIRST:event_jButton3ActionPerformed\n",
        "#         // TODO add your handling code here:\n",
        "#         jTextField4.setText(\"\");\n",
        "#         jTextField5.setText(\"\");\n",
        "#         jTextField6.setText(\"\");\n",
        "#         jTextField7.setText(\"\");\n",
        "#         //jTextField8.setText(\"\");\n",
        "#         jTextField9.setText(\"\");\n",
        "#         jTextField10.setText(\"\");\n",
        "\n",
        "#     }//GEN-LAST:event_jButton3ActionPerformed\n",
        "#     private void jButton4ActionPerformed(java.awt.event.ActionEvent evt) {//GEN-FIRST:event_jButton4ActionPerformed\n",
        "#         // TODO add your handling code here:\n",
        "#         jTextField11.setText(new DatePicker(this).setPickedDate());\n",
        "\n",
        "#     }//GEN-LAST:event_jButton4ActionPerformed\n",
        "# public static boolean isValidUsername(String name) {\n",
        "\n",
        "#         // Regex to check valid username.\n",
        "#         String regex = \"^[A-Za-z]\\\\w{0,29}$\";\n",
        "\n",
        "#         // Compile the ReGex\n",
        "#         Pattern p = Pattern.compile(regex);\n",
        "\n",
        "#         // If the username is empty\n",
        "#         // return false\n",
        "#         if (name == null) {\n",
        "#             return false;\n",
        "#         }\n",
        "\n",
        "#         // Pattern class contains matcher() method\n",
        "#         // to find matching between given username\n",
        "#         // and regular expression.\n",
        "#         Matcher m = p.matcher(name);\n",
        "\n",
        "#         // Return if the username\n",
        "#         // matched the ReGex\n",
        "#         return m.matches();\n",
        "#     }\n",
        "#     // function to validate wether a date of birth entered is corrct or not.\n",
        "#     private static Boolean isValidDOB(String dob){\n",
        "#         SimpleDateFormat df = new SimpleDateFormat(\"yyyy-MM-dd\");\n",
        "#         Date testDate = null;\n",
        "\n",
        "\n",
        "\n",
        "#         try{\n",
        "#             testDate = df.parse(dob);\n",
        "#         } catch (ParseException e){ }\n",
        "#         if (!df.format(testDate).equals(dob)){\n",
        "#             return false;\n",
        "#         }\n",
        "#         else{\n",
        "#             return true;\n",
        "#         }\n",
        "#     }\n",
        "#     // function to check the validity of all fields of signup form.\n",
        "#     private Boolean check_validity(String name,String dob,String nationality,String acc_type,String caste,String mob,String add,String balance,String sec_a){\n",
        "#         int flag=0;\n",
        "#         if(isValidUsername(name)==false)flag=1;\n",
        "#         if(isValidDOB(dob)==false)flag=1;\n",
        "#         if(nationality==\"Select\")flag=1;\n",
        "#         if(acc_type==\"Select\")flag=1;\n",
        "#         if(isValidUsername(caste)==false)flag=1;\n",
        "#         if(isValidMobileNo(mob)==false)flag=1;\n",
        "#         if(isValidUsername(add)==false)flag=1;\n",
        "#         if(isNumeric(balance)==false)flag=1;\n",
        "#         if(isValidUsername(sec_a)==false)flag=1;\n",
        "\n",
        "#         if(flag==1)return false;\n",
        "#         else return true;\n",
        "#     }\n",
        "#     private void jButton1ActionPerformed(java.awt.event.ActionEvent evt) {//GEN-FIRST:event_jButton1ActionPerformed\n",
        "#         // TODO add your handling code here:\n",
        "#         String sql=\"insert into Account (Account,Name,DOB,Pin,Acc_type,Nationality,Caste,MICR_No,Gender,Mob,Address,Sec_Q,Sec_A,Balance) values(?,?,?,?,?,?,?,?,?,?,?,?,?,?)\";\n",
        "#         try{\n",
        "#             pst=conn.prepareStatement(sql);\n",
        "#             //getting all values into variables from textboxes and dropdown menus.\n",
        "#             String account_no=jTextField1.getText();\n",
        "#             String name=jTextField4.getText();\n",
        "#             String dob=jTextField11.getText();\n",
        "#             String pin=jTextField3.getText();\n",
        "#             String acc_type=(String)jComboBox1.getSelectedItem();\n",
        "#             String nationality=(String)jComboBox2.getSelectedItem();\n",
        "#             String caste=jTextField5.getText();\n",
        "#             String micr=jTextField2.getText();\n",
        "#             String mob=jTextField7.getText();\n",
        "#             String add=jTextField6.getText();\n",
        "#             String sec_a=jTextField9.getText();\n",
        "#             String balance=jTextField10.getText();\n",
        "#             //checking, wether al entries are correct or not\n",
        "#             if(check_validity(name,dob,nationality,acc_type,caste,mob,add,balance,sec_a)==false){\n",
        "#                 throw new Exception(\"Please enter values correctly!!\");\n",
        "#             }\n",
        "#             // creating the sql query\n",
        "#             pst.setString(1,account_no);\n",
        "#             pst.setString(2,name);\n",
        "#             pst.setString(3,dob);\n",
        "#             String hashedPin=Authentication.hashIt(pin);\n",
        "#             pst.setString(4,hashedPin);\n",
        "#             pst.setString(5,acc_type);\n",
        "#             pst.setString(6,nationality);\n",
        "#             pst.setString(7,caste);\n",
        "#             pst.setString(8,micr);\n",
        "\n",
        "#             jRadioButton1.setActionCommand(\"Male\");\n",
        "#             jRadioButton2.setActionCommand(\"Female\");\n",
        "#             jRadioButton3.setActionCommand(\"Other\");\n",
        "\n",
        "\n",
        "#             pst.setString(9,buttonGroup1.getSelection().getActionCommand());\n",
        "#             pst.setString(10,mob);\n",
        "#             pst.setString(11,add);\n",
        "#             pst.setString(12,(String)jComboBox3.getSelectedItem());\n",
        "#             pst.setString(13,sec_a);\n",
        "#             pst.setString(14,balance);\n",
        "\n",
        "#             pst.execute();\n",
        "#             JOptionPane.showMessageDialog(null,\"Account has been created!!\");\n",
        "#             Bal();\n",
        "#         }catch(Exception e){\n",
        "#             JOptionPane.showMessageDialog(null, e);\n",
        "\n",
        "#         }\n",
        "\n",
        "#     }//GEN-LAST:event_jButton1ActionPerformed\n",
        "\n",
        "#     private void jComboBox3ActionPerformed(java.awt.event.ActionEvent evt) {//GEN-FIRST:event_jComboBox3ActionPerformed\n",
        "#         // TODO add your handling code here:\n",
        "#     }//GEN-LAST:event_jComboBox3ActionPerformed\n",
        "\n",
        "#     /**\n",
        "#      * Gives a unique integer value for the specified column in the range [0, upperLimit].\n",
        "#      * @param columnName name of the column.\n",
        "#      * @param upperLimit the upper limit for the random value.\n",
        "#      * @return unique random value.\n",
        "#      */\n",
        "#     /**\n",
        "#      * @param args the command line arguments\n",
        "#      */\n",
        "#     public static void main(String args[]) {\n",
        "#         /* Set the Nimbus look and feel */\n",
        "#         //<editor-fold defaultstate=\"collapsed\" desc=\" Look and feel setting code (optional) \">\n",
        "#         /* If Nimbus (introduced in Java SE 6) is not available, stay with the default look and feel.\n",
        "#          * For details see http://download.oracle.com/javase/tutorial/uiswing/lookandfeel/plaf.html\n",
        "#          */\n",
        "#         try {\n",
        "#             for (javax.swing.UIManager.LookAndFeelInfo info : javax.swing.UIManager.getInstalledLookAndFeels()) {\n",
        "#                 if (\"Nimbus\".equals(info.getName())) {\n",
        "#                     javax.swing.UIManager.setLookAndFeel(info.getClassName());\n",
        "#                     break;\n",
        "#                 }\n",
        "#             }\n",
        "#         } catch (ClassNotFoundException ex) {\n",
        "#             java.util.logging.Logger.getLogger(Account.class.getName()).log(java.util.logging.Level.SEVERE, null, ex);\n",
        "#         } catch (InstantiationException ex) {\n",
        "#             java.util.logging.Logger.getLogger(Account.class.getName()).log(java.util.logging.Level.SEVERE, null, ex);\n",
        "#         } catch (IllegalAccessException ex) {\n",
        "#             java.util.logging.Logger.getLogger(Account.class.getName()).log(java.util.logging.Level.SEVERE, null, ex);\n",
        "#         } catch (javax.swing.UnsupportedLookAndFeelException ex) {\n",
        "#             java.util.logging.Logger.getLogger(Account.class.getName()).log(java.util.logging.Level.SEVERE, null, ex);\n",
        "#         }\n",
        "#         //</editor-fold>\n",
        "\n",
        "#         /* Create and display the form */\n",
        "#         java.awt.EventQueue.invokeLater(new Runnable() {\n",
        "#             public void run() {\n",
        "#                 new Account().setVisible(true);\n",
        "#             }\n",
        "#         });\n",
        "#     }\n",
        "\n",
        "# }\n",
        "# \"\"\""
      ],
      "id": "a678e6fe-c1c0-4f7e-8287-a71a0c743662"
    },
    {
      "cell_type": "markdown",
      "metadata": {
        "id": "VHPyoxZeoFbF"
      },
      "source": [
        "#<font color=Sky-blue><b>#4.Construct the prompt for GPT-3.5\n",
        "---"
      ],
      "id": "VHPyoxZeoFbF"
    },
    {
      "cell_type": "code",
      "execution_count": null,
      "metadata": {
        "id": "31cc930f-830f-47d1-911c-8ff244d5d9f3"
      },
      "outputs": [],
      "source": [
        "# prompt = \"Summarize the following code is :\\n\" + code + \"\\n\\nProvide both a high-level and detailed summary.\"\n",
        "prompt = \"Summary of  the above following code is:\\n\\n\\n\" +code+ \"\"\"\\n Summarize both High-Level the functionality with serial wise. Provide both a High-level Summary  and a detailed level Summary , \\n Highlighting key methods, logic. \\n Consider discussing Potential Use cases and optimizations. \\n Be thorough in capturing the essence of the code's design and operation. and  \\n Final Summary of this code \"\"\""
      ],
      "id": "31cc930f-830f-47d1-911c-8ff244d5d9f3"
    },
    {
      "cell_type": "markdown",
      "metadata": {
        "id": "CoYcxJa6oQNP"
      },
      "source": [
        "#<font color=Sky-blue><b>#5.Request to the OpenAI API for code summarization\n",
        "---"
      ],
      "id": "CoYcxJa6oQNP"
    },
    {
      "cell_type": "code",
      "execution_count": null,
      "metadata": {
        "id": "YBHSoP1LmJko"
      },
      "outputs": [],
      "source": [],
      "id": "YBHSoP1LmJko"
    },
    {
      "cell_type": "code",
      "execution_count": null,
      "metadata": {
        "id": "3f2e9dac-ea76-4258-a473-5b56130d7630"
      },
      "outputs": [],
      "source": [
        "response =  client.completions.create(\n",
        "         model=\"gpt-3.5-turbo-instruct\",\n",
        "        prompt=prompt,\n",
        "        max_tokens=600,\n",
        "        n=2,\n",
        "        stop=None,\n",
        "        temperature=0.7,\n",
        "    )"
      ],
      "id": "3f2e9dac-ea76-4258-a473-5b56130d7630"
    },
    {
      "cell_type": "markdown",
      "metadata": {
        "id": "ogKlcyMPoiXO"
      },
      "source": [
        "#<font color=sky-blue><b>#6.Extract and printing the generated summary\n",
        "---"
      ],
      "id": "ogKlcyMPoiXO"
    },
    {
      "cell_type": "code",
      "execution_count": null,
      "metadata": {
        "colab": {
          "base_uri": "https://localhost:8080/"
        },
        "id": "8c0d003c-d0de-4e83-8d1a-35bd1d09bec7",
        "outputId": "282eaf66-f011-4455-f8fa-8eb152d53dc3"
      },
      "outputs": [
        {
          "output_type": "stream",
          "name": "stdout",
          "text": [
            "\n",
            "\n",
            "SUMMARY OF ABOVE CODE IS  : -> \n",
            "\n",
            "===================================================================\n",
            "\n",
            " High-Level Summary:\n",
            "\n",
            "This code is a banking system application that allows users to create, manage and perform transactions on their bank accounts. It includes functionality such as opening new accounts, displaying account details, searching for accounts, depositing and withdrawing money, and removing accounts. The code also allows for the creation of different types of bank accounts, such as UNB, NBD, and FGB, each with their own specific minimum balance requirements.\n",
            "\n",
            "Detailed-Level Summary:\n",
            "\n",
            "1. The code starts by importing the necessary libraries and creating a class called BankDetails, which contains private variables for account number, name, account type, and balance. It also includes a scanner object for user input.\n",
            "\n",
            "2. The openAccount() method is used to create a new account by prompting the user for their account number, type, name, and initial balance.\n",
            "\n",
            "3. The showAccount() method displays the details of a specific account.\n",
            "\n",
            "4. The deposit() method allows the user to deposit money into their account by entering the amount they want to deposit. The balance is updated accordingly.\n",
            "\n",
            "5. The withdrawal() method allows the user to withdraw money from their account by entering the amount they want to withdraw. The balance is updated accordingly, but the withdrawal is only allowed if the account has sufficient funds.\n",
            "\n",
            "6. The search() method is used to search for a specific account by account number.\n",
            "\n",
            "7. The main() method starts by creating an initial set of accounts and then presents a menu of options for the user to choose from. These options include displaying all account details, searching for an account, depositing or withdrawing money, and exiting the program.\n",
            "\n",
            "8. The program also includes three classes, UNB, NBD, and FGB, which implement the CentralBank interface. Each class represents a different type of bank account and includes methods for getting the balance, depositing and withdrawing money, showing account details, and searching for an account.\n",
            "\n",
            "9. The BankDriver class includes a createAccount() method that allows the user to create a new account by entering their personal and account information. This method also checks for duplicate accounts and ensures that the minimum balance requirement for each type of account is met.\n",
            "\n",
            "10. The main() method in the BankDriver class allows the user to manage their accounts by displaying account details, searching for an account, depositing or withdrawing money, and removing an account from the list.\n",
            "\n",
            "Potential Use Cases and Optimizations:\n",
            "\n",
            "1. This code can be used by banks and financial institutions to manage their customers' accounts and transactions.\n",
            "\n",
            "2. It can also be used by individuals to keep track of their personal bank accounts.\n",
            "\n",
            "3. The code can be optimized by implementing additional security measures, such as user authentication, to ensure the safety of the accounts.\n",
            "\n",
            "4. The program can also be improved by adding more features, such as transferring funds between accounts and setting up automatic payments.\n",
            "\n",
            "Final Summary:\n",
            "\n",
            "Overall, this code provides a functional and user-friendly banking system application that allows for the creation, management, and\n"
          ]
        }
      ],
      "source": [
        "summarizer = response.choices[0].text.strip()\n",
        "print(\"\\n\")\n",
        "print(\"SUMMARY OF ABOVE CODE IS  : -> \\n\")\n",
        "print(\"===================================================================\")\n",
        "print(\"\\n\",summarizer)\n",
        "# print(\"SUMMARY OF ABOVE CODE IS  : => \\n=================================================\" +\"\\n\" ,summarizer)"
      ],
      "id": "8c0d003c-d0de-4e83-8d1a-35bd1d09bec7"
    },
    {
      "cell_type": "markdown",
      "metadata": {
        "id": "NTQHZHt_h-xi"
      },
      "source": [
        "#<font color=sky-blue><b>#7.Chunking on the summarized code: --\n",
        "---\n",
        "Chunk- Use to devide doc/text into smaller smaller parts.\n",
        "\n",
        "text/doc ---chunk 1, chunk2, chunk3 ...etc\n",
        "\n",
        "\n",
        "how is it works ?\n",
        "\n",
        "how the text is split ?\n",
        "\n",
        "by the list of characters.\n",
        "\n",
        "how chunk size is measured..?\n",
        "\n",
        "by no. of charcters"
      ],
      "id": "NTQHZHt_h-xi"
    },
    {
      "cell_type": "code",
      "execution_count": null,
      "metadata": {
        "colab": {
          "base_uri": "https://localhost:8080/"
        },
        "id": "blt6FoFqfmd8",
        "outputId": "e7edaf68-e35c-41dd-dac3-0f1e1ab05f4c"
      },
      "outputs": [
        {
          "output_type": "stream",
          "name": "stdout",
          "text": [
            "Requirement already satisfied: langchain in /usr/local/lib/python3.10/dist-packages (0.1.5)\n",
            "Requirement already satisfied: PyYAML>=5.3 in /usr/local/lib/python3.10/dist-packages (from langchain) (6.0.1)\n",
            "Requirement already satisfied: SQLAlchemy<3,>=1.4 in /usr/local/lib/python3.10/dist-packages (from langchain) (2.0.25)\n",
            "Requirement already satisfied: aiohttp<4.0.0,>=3.8.3 in /usr/local/lib/python3.10/dist-packages (from langchain) (3.9.3)\n",
            "Requirement already satisfied: async-timeout<5.0.0,>=4.0.0 in /usr/local/lib/python3.10/dist-packages (from langchain) (4.0.3)\n",
            "Requirement already satisfied: dataclasses-json<0.7,>=0.5.7 in /usr/local/lib/python3.10/dist-packages (from langchain) (0.6.4)\n",
            "Requirement already satisfied: jsonpatch<2.0,>=1.33 in /usr/local/lib/python3.10/dist-packages (from langchain) (1.33)\n",
            "Requirement already satisfied: langchain-community<0.1,>=0.0.17 in /usr/local/lib/python3.10/dist-packages (from langchain) (0.0.18)\n",
            "Requirement already satisfied: langchain-core<0.2,>=0.1.16 in /usr/local/lib/python3.10/dist-packages (from langchain) (0.1.19)\n",
            "Requirement already satisfied: langsmith<0.1,>=0.0.83 in /usr/local/lib/python3.10/dist-packages (from langchain) (0.0.86)\n",
            "Requirement already satisfied: numpy<2,>=1 in /usr/local/lib/python3.10/dist-packages (from langchain) (1.23.5)\n",
            "Requirement already satisfied: pydantic<3,>=1 in /usr/local/lib/python3.10/dist-packages (from langchain) (2.6.0)\n",
            "Requirement already satisfied: requests<3,>=2 in /usr/local/lib/python3.10/dist-packages (from langchain) (2.31.0)\n",
            "Requirement already satisfied: tenacity<9.0.0,>=8.1.0 in /usr/local/lib/python3.10/dist-packages (from langchain) (8.2.3)\n",
            "Requirement already satisfied: aiosignal>=1.1.2 in /usr/local/lib/python3.10/dist-packages (from aiohttp<4.0.0,>=3.8.3->langchain) (1.3.1)\n",
            "Requirement already satisfied: attrs>=17.3.0 in /usr/local/lib/python3.10/dist-packages (from aiohttp<4.0.0,>=3.8.3->langchain) (23.2.0)\n",
            "Requirement already satisfied: frozenlist>=1.1.1 in /usr/local/lib/python3.10/dist-packages (from aiohttp<4.0.0,>=3.8.3->langchain) (1.4.1)\n",
            "Requirement already satisfied: multidict<7.0,>=4.5 in /usr/local/lib/python3.10/dist-packages (from aiohttp<4.0.0,>=3.8.3->langchain) (6.0.5)\n",
            "Requirement already satisfied: yarl<2.0,>=1.0 in /usr/local/lib/python3.10/dist-packages (from aiohttp<4.0.0,>=3.8.3->langchain) (1.9.4)\n",
            "Requirement already satisfied: marshmallow<4.0.0,>=3.18.0 in /usr/local/lib/python3.10/dist-packages (from dataclasses-json<0.7,>=0.5.7->langchain) (3.20.2)\n",
            "Requirement already satisfied: typing-inspect<1,>=0.4.0 in /usr/local/lib/python3.10/dist-packages (from dataclasses-json<0.7,>=0.5.7->langchain) (0.9.0)\n",
            "Requirement already satisfied: jsonpointer>=1.9 in /usr/local/lib/python3.10/dist-packages (from jsonpatch<2.0,>=1.33->langchain) (2.4)\n",
            "Requirement already satisfied: anyio<5,>=3 in /usr/local/lib/python3.10/dist-packages (from langchain-core<0.2,>=0.1.16->langchain) (3.7.1)\n",
            "Requirement already satisfied: packaging<24.0,>=23.2 in /usr/local/lib/python3.10/dist-packages (from langchain-core<0.2,>=0.1.16->langchain) (23.2)\n",
            "Requirement already satisfied: annotated-types>=0.4.0 in /usr/local/lib/python3.10/dist-packages (from pydantic<3,>=1->langchain) (0.6.0)\n",
            "Requirement already satisfied: pydantic-core==2.16.1 in /usr/local/lib/python3.10/dist-packages (from pydantic<3,>=1->langchain) (2.16.1)\n",
            "Requirement already satisfied: typing-extensions>=4.6.1 in /usr/local/lib/python3.10/dist-packages (from pydantic<3,>=1->langchain) (4.9.0)\n",
            "Requirement already satisfied: charset-normalizer<4,>=2 in /usr/local/lib/python3.10/dist-packages (from requests<3,>=2->langchain) (3.3.2)\n",
            "Requirement already satisfied: idna<4,>=2.5 in /usr/local/lib/python3.10/dist-packages (from requests<3,>=2->langchain) (3.6)\n",
            "Requirement already satisfied: urllib3<3,>=1.21.1 in /usr/local/lib/python3.10/dist-packages (from requests<3,>=2->langchain) (2.0.7)\n",
            "Requirement already satisfied: certifi>=2017.4.17 in /usr/local/lib/python3.10/dist-packages (from requests<3,>=2->langchain) (2024.2.2)\n",
            "Requirement already satisfied: greenlet!=0.4.17 in /usr/local/lib/python3.10/dist-packages (from SQLAlchemy<3,>=1.4->langchain) (3.0.3)\n",
            "Requirement already satisfied: sniffio>=1.1 in /usr/local/lib/python3.10/dist-packages (from anyio<5,>=3->langchain-core<0.2,>=0.1.16->langchain) (1.3.0)\n",
            "Requirement already satisfied: exceptiongroup in /usr/local/lib/python3.10/dist-packages (from anyio<5,>=3->langchain-core<0.2,>=0.1.16->langchain) (1.2.0)\n",
            "Requirement already satisfied: mypy-extensions>=0.3.0 in /usr/local/lib/python3.10/dist-packages (from typing-inspect<1,>=0.4.0->dataclasses-json<0.7,>=0.5.7->langchain) (1.0.0)\n"
          ]
        }
      ],
      "source": [
        " !pip install langchain"
      ],
      "id": "blt6FoFqfmd8"
    },
    {
      "cell_type": "code",
      "execution_count": null,
      "metadata": {
        "id": "kz8Mz_wGfqyW"
      },
      "outputs": [],
      "source": [
        "import langchain\n",
        "from langchain.text_splitter import RecursiveCharacterTextSplitter"
      ],
      "id": "kz8Mz_wGfqyW"
    },
    {
      "cell_type": "markdown",
      "metadata": {
        "id": "F3K6MDqtBter"
      },
      "source": [
        "<font color=sky-blue><b> Taking -chunk size is : 175\n",
        "\n",
        "[\"\\n\\n\"] - paragraph\n",
        "\n",
        "[\"\\n\"]  - senetnces\n",
        "\n",
        "[\" \"] - words\n",
        "\n",
        "[\"\"] -characters"
      ],
      "id": "F3K6MDqtBter"
    },
    {
      "cell_type": "code",
      "execution_count": null,
      "metadata": {
        "id": "jZJ_K3fFfx5o"
      },
      "outputs": [],
      "source": [
        "rec_text_splitter = RecursiveCharacterTextSplitter(\n",
        "chunk_size = 130,\n",
        "chunk_overlap = 0,\n",
        "length_function = len,\n",
        ")\n",
        "chunks = rec_text_splitter.split_text(summarizer)"
      ],
      "id": "jZJ_K3fFfx5o"
    },
    {
      "cell_type": "markdown",
      "metadata": {
        "id": "2hOySpjR9tpw"
      },
      "source": [
        "<font color=sky-blue><b>let's see length of chunk :"
      ],
      "id": "2hOySpjR9tpw"
    },
    {
      "cell_type": "code",
      "execution_count": null,
      "metadata": {
        "id": "pATvKWfWf8Jn",
        "colab": {
          "base_uri": "https://localhost:8080/"
        },
        "outputId": "2a081058-1b9d-4e5e-d279-24581460251c"
      },
      "outputs": [
        {
          "output_type": "execute_result",
          "data": {
            "text/plain": [
              "27"
            ]
          },
          "metadata": {},
          "execution_count": 134
        }
      ],
      "source": [
        "len(chunks)"
      ],
      "id": "pATvKWfWf8Jn"
    },
    {
      "cell_type": "code",
      "execution_count": null,
      "metadata": {
        "id": "-L-4b8GtgNuu",
        "colab": {
          "base_uri": "https://localhost:8080/"
        },
        "outputId": "f552ae6b-9859-4caa-8a72-2f935d0cde0a"
      },
      "outputs": [
        {
          "output_type": "stream",
          "name": "stdout",
          "text": [
            "chunk  # 0, size of the chunk is : 19\n",
            "chunk  # 1, size of the chunk is : 124\n",
            "chunk  # 2, size of the chunk is : 128\n",
            "chunk  # 3, size of the chunk is : 114\n",
            "chunk  # 4, size of the chunk is : 17\n",
            "chunk  # 5, size of the chunk is : 126\n",
            "chunk  # 6, size of the chunk is : 128\n",
            "chunk  # 7, size of the chunk is : 19\n",
            "chunk  # 8, size of the chunk is : 126\n",
            "chunk  # 9, size of the chunk is : 128\n",
            "chunk  # 10, size of the chunk is : 24\n",
            "chunk  # 11, size of the chunk is : 128\n",
            "chunk  # 12, size of the chunk is : 105\n",
            "chunk  # 13, size of the chunk is : 127\n",
            "chunk  # 14, size of the chunk is : 126\n",
            "chunk  # 15, size of the chunk is : 122\n",
            "chunk  # 16, size of the chunk is : 18\n",
            "chunk  # 17, size of the chunk is : 126\n",
            "chunk  # 18, size of the chunk is : 6\n",
            "chunk  # 19, size of the chunk is : 121\n",
            "chunk  # 20, size of the chunk is : 128\n",
            "chunk  # 21, size of the chunk is : 109\n",
            "chunk  # 22, size of the chunk is : 11\n",
            "chunk  # 23, size of the chunk is : 120\n",
            "chunk  # 24, size of the chunk is : 121\n",
            "chunk  # 25, size of the chunk is : 129\n",
            "chunk  # 26, size of the chunk is : 49\n"
          ]
        }
      ],
      "source": [
        "for i, _ in enumerate(chunks):\n",
        "   print(f\"chunk  # {i}, size of the chunk is : {len(chunks[i])}\")"
      ],
      "id": "-L-4b8GtgNuu"
    },
    {
      "cell_type": "markdown",
      "metadata": {
        "id": "mtv9EliT_VSd"
      },
      "source": [
        "##<font color=sky-blue><b>finally, printing the chunked summary-"
      ],
      "id": "mtv9EliT_VSd"
    },
    {
      "cell_type": "code",
      "execution_count": null,
      "metadata": {
        "id": "32871qQsgV2P",
        "colab": {
          "base_uri": "https://localhost:8080/"
        },
        "outputId": "74af3b73-bb82-46f7-d1c6-e03b033a8c73"
      },
      "outputs": [
        {
          "output_type": "stream",
          "name": "stdout",
          "text": [
            "chunk # 0 => High-Level Summary:\n",
            "chunk # 1 => The code is a banking system application that allows users to open new bank accounts, deposit and withdraw money, search for\n",
            "chunk # 2 => specific accounts, and display all account details. It uses object-oriented programming principles to create BankDetails objects\n",
            "chunk # 3 => that represent individual bank accounts, and CentralBank interface to define common methods for all bank accounts.\n",
            "chunk # 4 => Detailed Summary:\n",
            "chunk # 5 => - The BankDetails class has private variables for account number, name, account type, and balance, as well as a Scanner object\n",
            "chunk # 6 => for user input. The class has methods to open a new account, display account details, deposit and withdraw money, and search for\n",
            "chunk # 7 => a specific account.\n",
            "chunk # 8 => - The main method in BankingApp class creates an array of BankDetails objects and uses a switch statement to perform different\n",
            "chunk # 9 => actions based on user input, such as displaying all accounts, searching for a specific account, depositing or withdrawing money,\n",
            "chunk # 10 => and exiting the program.\n",
            "chunk # 11 => - The unb, nbd, and fgb classes implement the CentralBank interface and have methods to get balance, deposit, withdraw, and show\n",
            "chunk # 12 => account details. These classes represent different banks and have different minimum balance requirements.\n",
            "chunk # 13 => - The BankDriver class has a static method createAccount that allows users to create new bank accounts by providing their name,\n",
            "chunk # 14 => account number, account type, and initial balance. It also has a main method that allows users to perform different actions on\n",
            "chunk # 15 => their accounts, such as creating new accounts, displaying all accounts, searching for specific accounts, and depositing or\n",
            "chunk # 16 => withdrawing money.\n",
            "chunk # 17 => - The code uses a combination of array and switch statements, as well as for loops, to perform different actions based on user\n",
            "chunk # 18 => input.\n",
            "chunk # 19 => - Use cases for this code include managing bank accounts, checking account balances, and making deposits and withdrawals.\n",
            "chunk # 20 => - Possible optimizations for this code could include adding additional error handling for invalid user input, implementing a GUI\n",
            "chunk # 21 => for a more user-friendly experience, and allowing for multiple users to access their accounts simultaneously.\n",
            "chunk # 22 => Conclusion:\n",
            "chunk # 23 => The above code demonstrates a simple banking system application that allows users to manage their bank accounts. It uses\n",
            "chunk # 24 => object-oriented programming principles to create BankDetails objects and CentralBank interface, and uses array and switch\n",
            "chunk # 25 => statements for user input and action selection. With some potential optimizations, this code can be further improved to provide a\n",
            "chunk # 26 => more robust and user-friendly banking experience.\n",
            "-------------------------------------------------------------------------------------------------------------------------------------------------\n"
          ]
        }
      ],
      "source": [
        "for i, _ in enumerate(chunks):\n",
        "   print(f\"chunk # {i} => {chunks[i]}\")\n",
        "print(\"-------------------------------------------------------------------------------------------------------------------------------------------------\")\n"
      ],
      "id": "32871qQsgV2P"
    },
    {
      "cell_type": "markdown",
      "metadata": {
        "id": "isQ9uLE2_cvn"
      },
      "source": [
        "## <font color=green><b> ##Assignment Over <> Thanks for visiting....##."
      ],
      "id": "isQ9uLE2_cvn"
    }
  ],
  "metadata": {
    "colab": {
      "provenance": [],
      "include_colab_link": true
    },
    "kernelspec": {
      "display_name": "Python 3 (ipykernel)",
      "language": "python",
      "name": "python3"
    },
    "language_info": {
      "codemirror_mode": {
        "name": "ipython",
        "version": 3
      },
      "file_extension": ".py",
      "mimetype": "text/x-python",
      "name": "python",
      "nbconvert_exporter": "python",
      "pygments_lexer": "ipython3",
      "version": "3.12.0"
    }
  },
  "nbformat": 4,
  "nbformat_minor": 5
}